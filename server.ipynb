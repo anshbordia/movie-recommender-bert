{
 "cells": [
  {
   "cell_type": "code",
   "execution_count": 1,
   "metadata": {},
   "outputs": [],
   "source": [
    "import pickle as pkl\n",
    "import pandas as pd\n",
    "import io\n",
    "import uvicorn\n",
    "import numpy as np\n",
    "import nest_asyncio\n",
    "from fastapi import FastAPI, UploadFile, File, HTTPException\n",
    "from fastapi.responses import JSONResponse\n",
    "from fastapi.encoders import jsonable_encoder"
   ]
  },
  {
   "cell_type": "code",
   "execution_count": 2,
   "metadata": {},
   "outputs": [],
   "source": [
    "#Load Model\n",
    "similarity = pkl.load(open('model.sav', 'rb'))"
   ]
  },
  {
   "cell_type": "code",
   "execution_count": 3,
   "metadata": {},
   "outputs": [],
   "source": [
    "#Load Data\n",
    "def prep_data():\n",
    "    movies = pd.read_csv(\"movies_metadata.csv\", usecols = [5,9,20], nrows = 5000)\n",
    "    movies['index'] = [i for i in range(0, len(movies))]\n",
    "    movies = movies.dropna()\n",
    "    return movies\n",
    "\n",
    "movies = prep_data()"
   ]
  },
  {
   "cell_type": "code",
   "execution_count": 4,
   "metadata": {},
   "outputs": [],
   "source": [
    "#Helper Functions\n",
    "\n",
    "#Get title of movie\n",
    "def get_title(index):\n",
    "    return movies[movies.index == index][\"title\"].values[0]\n",
    "\n",
    "#Get index of movie\n",
    "def get_index(title):\n",
    "    return movies[movies.title == title][\"index\"].values[0]\n",
    "\n",
    "def recommend(user_movie):\n",
    "    recommendations = sorted(list(enumerate(similarity[get_index(user_movie)])), key = lambda x:x[1], reverse = True)\n",
    "    #print(\"The top 3 recommendations for\" + \" \" + user_movie + \" \" + \"are: \")\n",
    "    #print(get_title(recommendations[1][0]), get_title(recommendations[2][0]), get_title(recommendations[3][0]), sep = \"\\n\")\n",
    "    top_recos = {'First': get_title(recommendations[1][0]), 'Second': get_title(recommendations[2][0]), 'Third': get_title(recommendations[3][0])}\n",
    "    return top_recos"
   ]
  },
  {
   "cell_type": "code",
   "execution_count": 5,
   "metadata": {},
   "outputs": [
    {
     "name": "stderr",
     "output_type": "stream",
     "text": [
      "INFO:     Started server process [6464]\n",
      "INFO:     Waiting for application startup.\n",
      "INFO:     Application startup complete.\n",
      "INFO:     Uvicorn running on http://127.0.0.1:8000 (Press CTRL+C to quit)\n"
     ]
    },
    {
     "name": "stdout",
     "output_type": "stream",
     "text": [
      "INFO:     127.0.0.1:56627 - \"POST /predict HTTP/1.1\" 200 OK\n"
     ]
    },
    {
     "name": "stderr",
     "output_type": "stream",
     "text": [
      "INFO:     Shutting down\n",
      "INFO:     Waiting for application shutdown.\n",
      "INFO:     Application shutdown complete.\n",
      "INFO:     Finished server process [6464]\n"
     ]
    }
   ],
   "source": [
    "#Server\n",
    "\n",
    "useMyClient =  True #If true both client.ipynb and localhost:8000/docs will work (but data will need to be passed as a json). If false only the docs link will work and you can just enter a string\n",
    "app = FastAPI(title='Movie Recommender API')\n",
    "\n",
    "@app.get(\"/\")\n",
    "def home():\n",
    "    return \"API up and running! Use this link to submit a request http://localhost:8000/docs. OR run client.ipynb\"\n",
    "\n",
    "\n",
    "\n",
    "if(useMyClient):\n",
    "    @app.post(\"/predict\") \n",
    "    def prediction(movie: dict):\n",
    "\n",
    "        recos = jsonable_encoder(recommend(movie['movie']))\n",
    "\n",
    "        return JSONResponse(content = recos)\n",
    "    \n",
    "else:\n",
    "    @app.post(\"/predict\") \n",
    "    def prediction(movie):\n",
    "\n",
    "        recos = jsonable_encoder(recommend(movie))\n",
    "\n",
    "        return JSONResponse(content = recos)\n",
    "\n",
    "# Allows the server to be run in this interactive environment\n",
    "nest_asyncio.apply()\n",
    "\n",
    "# Host depends on the setup you selected (docker or virtual env)\n",
    "host = \"127.0.0.1\"\n",
    "\n",
    "# Spin up the server!    \n",
    "uvicorn.run(app, host=host, port=8000)"
   ]
  }
 ],
 "metadata": {
  "kernelspec": {
   "display_name": "Python 3",
   "language": "python",
   "name": "python3"
  },
  "language_info": {
   "codemirror_mode": {
    "name": "ipython",
    "version": 3
   },
   "file_extension": ".py",
   "mimetype": "text/x-python",
   "name": "python",
   "nbconvert_exporter": "python",
   "pygments_lexer": "ipython3",
   "version": "3.7.6"
  }
 },
 "nbformat": 4,
 "nbformat_minor": 4
}
