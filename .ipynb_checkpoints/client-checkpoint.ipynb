{
 "cells": [
  {
   "cell_type": "code",
   "execution_count": 1,
   "metadata": {},
   "outputs": [],
   "source": [
    "import json\n",
    "import requests\n",
    "from fastapi.encoders import jsonable_encoder"
   ]
  },
  {
   "cell_type": "code",
   "execution_count": 2,
   "metadata": {},
   "outputs": [],
   "source": [
    "base_url = 'http://localhost:8000'\n",
    "endpoint = '/predict'"
   ]
  },
  {
   "cell_type": "code",
   "execution_count": 3,
   "metadata": {},
   "outputs": [],
   "source": [
    "#Client\n",
    "def response_from_server(url = base_url + endpoint):\n",
    "    movie = input('Enter movie for which you want recommendations')\n",
    "    movie_obj = {'movie': movie}\n",
    "    response = requests.post(url, json = movie_obj)\n",
    "    status_code = response.status_code\n",
    "    print(\"Successfully Executed\") if status_code == 200 else print(\"There was an error when handling the request\", status_code)\n",
    "    return response.content\n"
   ]
  },
  {
   "cell_type": "code",
   "execution_count": 5,
   "metadata": {},
   "outputs": [
    {
     "name": "stdout",
     "output_type": "stream",
     "text": [
      "Enter movie for which you want recommendationsToy Story\n",
      "Successfully Executed\n",
      "First Recommendation: Candleshoe \n",
      "Second Recommendation: Scenes from the Class Struggle in Beverly Hills \n",
      "Third Recommendation: Snow White and the Seven Dwarfs\n"
     ]
    }
   ],
   "source": [
    "recos = response_from_server()\n",
    "recos = json.loads(recos.decode('utf-8'))\n",
    "print('First Recommendation:', recos['First'], '\\nSecond Recommendation:' ,recos['Second'], '\\nThird Recommendation:', recos['Third'])"
   ]
  }
 ],
 "metadata": {
  "kernelspec": {
   "display_name": "Python 3",
   "language": "python",
   "name": "python3"
  },
  "language_info": {
   "codemirror_mode": {
    "name": "ipython",
    "version": 3
   },
   "file_extension": ".py",
   "mimetype": "text/x-python",
   "name": "python",
   "nbconvert_exporter": "python",
   "pygments_lexer": "ipython3",
   "version": "3.7.6"
  }
 },
 "nbformat": 4,
 "nbformat_minor": 4
}
